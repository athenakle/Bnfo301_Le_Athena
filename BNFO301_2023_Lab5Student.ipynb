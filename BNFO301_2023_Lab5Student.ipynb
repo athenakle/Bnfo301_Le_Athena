{
  "nbformat": 4,
  "nbformat_minor": 0,
  "metadata": {
    "colab": {
      "provenance": [],
      "toc_visible": true,
      "include_colab_link": true
    },
    "kernelspec": {
      "name": "python3",
      "display_name": "Python 3"
    },
    "language_info": {
      "name": "python"
    }
  },
  "cells": [
    {
      "cell_type": "markdown",
      "metadata": {
        "id": "view-in-github",
        "colab_type": "text"
      },
      "source": [
        "<a href=\"https://colab.research.google.com/github/athenakle/Bnfo301_Le_Athena/blob/main/BNFO301_2023_Lab5Student.ipynb\" target=\"_parent\"><img src=\"https://colab.research.google.com/assets/colab-badge.svg\" alt=\"Open In Colab\"/></a>"
      ]
    },
    {
      "cell_type": "markdown",
      "metadata": {
        "id": "y_V08ygIMrJd"
      },
      "source": [
        "<h1>BNFO301 Lab Assignment 5: Consensus Sequences</h1>\n",
        "\n",
        "A consensus sequence represents the most frequent nucleotide at each position in an alignment of two or more sequences. You can think of this as finding the most common base in a position within a multiple sequence alignment. Consensus sequences can be useful for identifying and visualizing motifs in a DNA or amino acid sequence. You have been provided a FASTA file of aligned sequences. The goal of this assignment is to write a python script to read in the sequences from the file and generate the consensus sequence\n",
        "\n",
        "\n",
        "Grading: problem 1 = 6 point; problem 2 = 7 points; problem 3 = 7 points.  There is a bonus question at the end worth 2 extra-credit points.  \n",
        "\n",
        "You will have two class periods to complete the lab and it will be due on 02/26 at 10AM.  The bonus may be completed on your own between meetings.  Your responses to problems 1-3 should be uploaded to **github**.  Your image created in the bonus section should be uploaded to **canvas**.\n",
        "\n",
        "**Helpful Resources:**\n",
        "\n",
        "If you are unfamiliar with consensus sequences or would like to review, this video explains the concept: https://www.youtube.com/watch?v=4HYJILahPw4 between 2:20 and 4:20. It may also be helpful to first generate the consensus sequence by hand, so that you can check the output from your script.\n",
        "\n"
      ]
    },
    {
      "cell_type": "markdown",
      "metadata": {
        "id": "mMbh0oaoNIEm"
      },
      "source": [
        "### Setup\n",
        "Load the Sequence Data File.  Please run this block without changing the code.\n",
        "\n",
        "This file is in fasta format and contains an alignment of DNA sequences, including gaps\n",
        "\n",
        "you can view the file by clicking on this link: https://raw.githubusercontent.com/boydvcu/BNFO301_2023/main/Nucl_alignment.fa "
      ]
    },
    {
      "cell_type": "code",
      "metadata": {
        "id": "TMJrCsgQMp2T"
      },
      "source": [
        "import os.path\n",
        "# Load the genbank file \n",
        "DATA_FILE_GITHUB = \"https://raw.githubusercontent.com/boydvcu/BNFO301_2023/main/Nucl_alignment.fa\"\n",
        "DEFAULT_FILE_NAME = 'Nucl_alignment.fa'\n",
        "\n",
        "fileName = DEFAULT_FILE_NAME\n",
        "#Does the file exists locally, if not get it from the github\n",
        "if not os.path.exists(fileName):\n",
        "  #Load the file from Github to the local folder\n",
        "  !wget --no-check-certificate --content-disposition $DATA_FILE_GITHUB\n",
        "   \n"
      ],
      "execution_count": 28,
      "outputs": []
    },
    {
      "cell_type": "markdown",
      "metadata": {
        "id": "NgIx3OQrOCXT"
      },
      "source": [
        "###problem-1.  Create a definition to read the FASTA formated file and add sequences into a list.  Create a second list that contains your headers (with the \">\" removed).  Your function should return both lists, not just print each list.  You have been provided a fucntion to print each lise, so that you can evaluate your lists.\n",
        "\n",
        "\n",
        "Hint, you will need to do the following:\n",
        "* We need a function to load the sequence file\n",
        "* We will load it in two lists of sequences and header names\n",
        "* Remember to strip \">\" and \"\\n\" characters\n",
        "\n",
        "\n",
        "Your output should look like this:\n",
        "\n",
        "Human       GGAGAGGCTCGGAGCCGGGCCCGGACCCCGGCGATTGCCGCCCGCTTCTCT\n",
        "\n",
        "Gorilla     GGAGAGGCTCGGAGCCGGGCCCGGACCCCGGCGATTGCCGCCCGCTTCTCT\n",
        "\n",
        "Dolphin     GAGGCTC---GGAGCCGGACCTGGACCCCTGCGATAGCCGTCTG-CTCCCG\n",
        "\n",
        "Rat         GGAGCAACTAGGAACCCGAACCAGAGCCCGGCGAGCGCAGCCTGCAGCTCC\n",
        "\n",
        "Mouse       GAGGCGCCTAGGAACCCGAGCCGGAGCTCAGCGAGCGCAGCCTGCAGCTCC\n"
      ]
    },
    {
      "cell_type": "code",
      "metadata": {
        "colab": {
          "base_uri": "https://localhost:8080/"
        },
        "id": "2Vl6BmmKOWkV",
        "outputId": "aa8d37b4-c323-4a5b-80f1-24fd4d5ff0a7"
      },
      "source": [
        "#-----------------------------------------\n",
        "#1.1. create defintion to read the fasta and return a list of sequences and a list of sequence identifiers\n",
        "#-----------------------------------------\n",
        "def ReadFile(fh):\n",
        "\n",
        "  sequences = []\n",
        "  headers = []\n",
        "  with open(fh) as file:\n",
        "        seq = \"\"\n",
        "        header = \"\"\n",
        "        for line in file:\n",
        "            if line.startswith(\">\"):\n",
        "                if seq != \"\":\n",
        "                    sequences.append(seq)\n",
        "                    seq = \"\"\n",
        "                header = line.strip()[1:]\n",
        "                headers.append(header)\n",
        "            else:\n",
        "                seq += line.strip()\n",
        "        sequences.append(seq)\n",
        "  return headers, sequences\n",
        "\n",
        "\n",
        "# -----------------------------\n",
        "#1.2 use this definition to print sequences and seqIDs in an easily readable format \n",
        "# ------------------------------\n",
        "def printInfo(seqIds, seqs):\n",
        "    for seqId, seq in zip(seqIds, seqs):\n",
        "        print(\"{: <12} {: <20}\".format(seqId, seq))\n",
        "\n",
        "# -----------------------------\n",
        "#1.3 remember to call your defitions\n",
        "# -----------------------------\n",
        "headers, sequences = ReadFile(\"Nucl_alignment.fa\")\n",
        "printInfo(headers, sequences)\n",
        "\n",
        "\n",
        "\n"
      ],
      "execution_count": 12,
      "outputs": [
        {
          "output_type": "stream",
          "name": "stdout",
          "text": [
            " Human       GGAGAGGCTCGGAGCCGGGCCCGGACCCCGGCGATTGCCGCCCGCTTCTCT\n",
            " Gorilla     GGAGAGGCTCGGAGCCGGGCCCGGACCCCGGCGATTGCCGCCCGCTTCTCT\n",
            " Dolphin     GAGGCTC---GGAGCCGGACCTGGACCCCTGCGATAGCCGTCTG-CTCCCG\n",
            " Rat         GGAGCAACTAGGAACCCGAACCAGAGCCCGGCGAGCGCAGCCTGCAGCTCC\n",
            " Mouse       GAGGCGCCTAGGAACCCGAGCCGGAGCTCAGCGAGCGCAGCCTGCAGCTCC\n"
          ]
        }
      ]
    },
    {
      "cell_type": "markdown",
      "metadata": {
        "id": "pH0HCad1_mYF"
      },
      "source": [
        "###problem-2. In this problem you will build a defition that uses nested loops to format the data in such a way that you can determine the most common base.  This is very similar to the process we discussed in lecture on pairwise alignment.  Remember to return your data as strings that represent bases in a column.  You have been given code to print the first three columns of the matrix.  This allows you to visualize your matrix and check it for accuracy.  Functions len and range will be useful in completing this problem.\n",
        "\n",
        "\n",
        "For example, lets take the input for the first three bases in the alignment given:\n",
        "\n",
        "Human       GGA\n",
        "\n",
        "Gorilla     GGA\n",
        "\n",
        "Dolphin     GAG\n",
        "\n",
        "Rat         GGA\n",
        "\n",
        "Mouse       GAG\n",
        "\n",
        "You should return data that looks like this:  [['G', 'G', 'G', 'G', 'G'], ['G', 'G', 'A', 'G', 'A'], ['A', 'A', 'G', 'A', 'G']]"
      ]
    },
    {
      "cell_type": "code",
      "metadata": {
        "id": "wrrprj_p_sYT",
        "outputId": "a9991a99-68a3-4529-b63c-99944fdbf5cb",
        "colab": {
          "base_uri": "https://localhost:8080/"
        }
      },
      "source": [
        "# -----------------------------\n",
        "# Convert sequence format for easy computation\n",
        "# ------------------------------\n",
        "def manipulateSeqs(seqs):\n",
        "    # Note lengths of the aligned sequences are equal\n",
        "    # Get length of first sequence using len\n",
        "    length = len(seqs[0])\n",
        "    # Initialize variables\n",
        "    NewlyFormatedData = []  # This will store all values at each position\n",
        "\n",
        "    # Create a list of lists using nested loops\n",
        "    # Example:\n",
        "    #        ATGCA\n",
        "    #        ATGAA\n",
        "    #        TCGAT\n",
        "    #             Bases at index 0   Bases at index 1 ...\n",
        "    # positions = [[\"A\", \"A\", \"T\"],  [\"T\", \"T\", \"C\"], ...]]\n",
        "    # use a for loop and the funciton range to identify the index in each sequence\n",
        "    for base_index in range(length):\n",
        "        column = []\n",
        "        # use a for loop to identify sequence (recall sequences are stored as a list)\n",
        "        for seq in seqs:\n",
        "            #use the function append to obtain the list (i.e. which sequence in the list) and index (i.e. which base)\n",
        "            column.append(seq[base_index])\n",
        "        NewlyFormatedData.append(column)\n",
        "    #do not forget to return the data\n",
        "    return NewlyFormatedData\n",
        "\n",
        "# print the first 3 rows of the matrix\n",
        "headers, sequences = ReadFile(\"Nucl_alignment.fa\")\n",
        "formatted_data = manipulateSeqs(sequences)\n",
        "print(formatted_data[0:3])\n"
      ],
      "execution_count": 20,
      "outputs": [
        {
          "output_type": "stream",
          "name": "stdout",
          "text": [
            "[['G', 'G', 'G', 'G', 'G'], ['G', 'G', 'A', 'G', 'A'], ['A', 'A', 'G', 'A', 'G']]\n"
          ]
        }
      ]
    },
    {
      "cell_type": "markdown",
      "metadata": {
        "id": "4E2GsDEt_8A7"
      },
      "source": [
        "###problem-3.  In this last problem, you will create a defintion that returns a consensus sequence using the most fequent base. You will again need to use nested loops.  Functions get and max will be helpful in responding to this question.  \n",
        "\n",
        "Use the following rules:  This function should print the concensus sequence as one continuous string. \n",
        "\n",
        "1. If all bases are in agreement, return base as upper.case.  e.g. ['G', 'G', 'G', 'G', 'G'] returns G\n",
        "2. If there is an equal split between bases in a column, return \"n\".  e.g. ['G', 'G', 'A', 'A', 'A', 'G'] returns n\n",
        "3. If the the bases are not in agreement, but one base is more frequent than other, return the most frequent base in lower.case.  eg. ['G', 'G', 'G', 'G', 'A'] returns g\n",
        "\n",
        "Your output should look like this: GgaGcgnctnGGAgCCgGacCcgGAcCcCgGCGAtnGCcGcCtGcntCtCn\n"
      ]
    },
    {
      "cell_type": "code",
      "metadata": {
        "id": "lx3sHnCK_-LO",
        "outputId": "b3ba9706-ecf7-493d-d9bd-fc2a78f3337a",
        "colab": {
          "base_uri": "https://localhost:8080/"
        }
      },
      "source": [
        "def getConsensus(NewlyFormatedData):\n",
        "    #Initialize variable for concensus string\n",
        "    consensus = \"\"\n",
        "    #use a for loop to go through each list in NewlyFormatedData\n",
        "    for row in NewlyFormatedData:\n",
        "        #create a dictionary to store each base and its count\n",
        "        freq = {}\n",
        "        #create a for loop to go through each position in the list\n",
        "        for char in row:\n",
        "            #get the count for each base using get\n",
        "            freq[char] = freq.get(char, 0) + 1\n",
        "        #identify the maximum value\n",
        "        maxFreq = max(freq.values())\n",
        "        #determine if more than key has the maximum value \n",
        "        maxKeys = max(freq, key=freq.get)\n",
        "        #calculate the abundance of the most common base \"maxFreq/len(row)\"\n",
        "        abundance = maxFreq / len(row)\n",
        "        #use if and elif and else statements to identify the conditions given in the instructions        \n",
        "        if abundance ==1:\n",
        "          consensus += maxKeys.upper()\n",
        "        elif abundance >0.5:\n",
        "          consensus +=maxKeys.lower()\n",
        "        else:\n",
        "          consensus += \"n\"\n",
        "    #remember to return your consensus\n",
        "    return consensus\n",
        "\n",
        "#call your definition\n",
        "headers, sequences = ReadFile(\"Nucl_alignment.fa\")\n",
        "formatted_data = manipulateSeqs(sequences)\n",
        "consensus_seq = getConsensus(formatted_data)\n",
        "\n",
        "#print the consensus sequence as one string\n",
        "print(consensus_seq)\n"
      ],
      "execution_count": 34,
      "outputs": [
        {
          "output_type": "stream",
          "name": "stdout",
          "text": [
            "GgaGcgnctnGGAgCCgGacCcgGAcCcCgGCGAtnGCcGcCtGcntCtCn\n"
          ]
        }
      ]
    },
    {
      "cell_type": "markdown",
      "metadata": {
        "id": "A1z6jSbwCxTs"
      },
      "source": [
        "###Bonus  \n",
        "One way aligned sequences are often visualized is as a sequence logo. For an additional point, go to https://weblogo.berkeley.edu/logo.cgi and upload the provided FASTA file. Save the image and upload to canvas.  You may do the bonus between class meetings on your own time."
      ]
    }
  ]
}