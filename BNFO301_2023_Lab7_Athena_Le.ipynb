{
  "nbformat": 4,
  "nbformat_minor": 0,
  "metadata": {
    "kernelspec": {
      "display_name": "Python 3",
      "language": "python",
      "name": "python3"
    },
    "language_info": {
      "codemirror_mode": {
        "name": "ipython",
        "version": 3
      },
      "file_extension": ".py",
      "mimetype": "text/x-python",
      "name": "python",
      "nbconvert_exporter": "python",
      "pygments_lexer": "ipython3",
      "version": "3.7.4"
    },
    "colab": {
      "provenance": [],
      "include_colab_link": true
    }
  },
  "cells": [
    {
      "cell_type": "markdown",
      "metadata": {
        "id": "view-in-github",
        "colab_type": "text"
      },
      "source": [
        "<a href=\"https://colab.research.google.com/github/athenakle/Bnfo301_Le_Athena/blob/main/BNFO301_2023_Lab7_Athena_Le.ipynb\" target=\"_parent\"><img src=\"https://colab.research.google.com/assets/colab-badge.svg\" alt=\"Open In Colab\"/></a>"
      ]
    },
    {
      "cell_type": "markdown",
      "metadata": {
        "id": "CV8ltn7IuWLR"
      },
      "source": [
        "<h1>BNFO301 2023, Lab #7: K-mer </h1>\n",
        "\n",
        "Most *de novo* genome assembly is done using de Bruijn graphs.  We discussed how these graphs give us a genome assembly given a set of K-1-mers in the lecture.  The the length of K is the most significant parameter of a de Bruijn graph assembly.  Sequence reads with less than K bases will not share and edge in the graph, genomic repeats longer than K will lead to forks, and a longer K will reduce the percent of \"correct K-mers\", when compared to a shorter K.  In this assignment, you will be tasked with detecting K-mers and evaluating K-mers.  Normally this would be done using sequence reads (e.g. Illumina paired-end reads), but here you will evaluate K given a complete genome, which provides additional insights.\n",
        "\n",
        "Grading:\n",
        "\n",
        "The assignment is worth 20 points and will be completed over two meetings.\n",
        "\n",
        "1.1 - create dictionary, 1 point\n",
        "\n",
        "1.2 - find k-mers, 4 points\n",
        "\n",
        "2.1 - generate Reverse Complement, 2 points\n",
        "\n",
        "2.2 - find k-mers, reverse complement, 1 point\n",
        "\n",
        "2.3 - find canonical K-mers, 5 points\n",
        "\n",
        "3.1 - find k-mers, short sequence, 2 points\n",
        "\n",
        "3.2 - find unique and distinct, from canonical k-mers, 5 points\n",
        "\n",
        "4.0 - extra credit, 3 points \n",
        "\n",
        "\n",
        "\n",
        "\n",
        "\n",
        "\n"
      ]
    },
    {
      "cell_type": "markdown",
      "metadata": {
        "id": "CM7DEBptKwuv"
      },
      "source": [
        "### Setup\n",
        "Read the Sequence Data File. \n",
        "Do not change the code, just run as is."
      ]
    },
    {
      "cell_type": "code",
      "metadata": {
        "id": "2zD28BXq0bRi",
        "colab": {
          "base_uri": "https://localhost:8080/"
        },
        "outputId": "6a7b4325-dae9-4f6e-c9b7-61efad773480"
      },
      "source": [
        "import os.path\n",
        "# Load the genbank file \n",
        "DATA_FILE_GITHUB = \"https://raw.githubusercontent.com/boydvcu/BNFO301_2023/main/homosapiens_hbb_data.fasta\"\n",
        "DEFAULT_FILE_NAME = 'homosapiens_hbb_data.fasta'\n",
        "fileName = DEFAULT_FILE_NAME\n",
        "#Does the file exists locally, if not get it from the github\n",
        "if not os.path.exists(fileName):\n",
        "  #Load the file from Github to the local folder\n",
        "  !wget --no-check-certificate --content-disposition $DATA_FILE_GITHUB\n",
        "   \n",
        "print(\"Reading file:\", fileName)\n"
      ],
      "execution_count": null,
      "outputs": [
        {
          "output_type": "stream",
          "name": "stdout",
          "text": [
            "Reading file: homosapiens_hbb_data.fasta\n"
          ]
        }
      ]
    },
    {
      "cell_type": "markdown",
      "metadata": {
        "id": "WIDxNNSDz1pE"
      },
      "source": [
        "###Problem 1\n",
        "**Counting K-mers** <br>\n",
        "Count the total number of 7-mers in the gene contained within the downloaed file and print the first five k-mers.  This is in fasta format.\n",
        "\n",
        "<br>\n",
        "**Example return:** <br>\n",
        "Total Number of 7-mers: 123 <br>\n",
        "7-mer #0: ATCGCTA <br>\n",
        "7-mer #1: TCGCTAG <br>\n",
        "7-mer #2: CGCTAGC <br>\n",
        "7-mer #3: GCTAGCG <br>\n",
        "7-mer #4: CTAGCGA <br>\n",
        "\n",
        "\n",
        "**Explanation and Example:**\n",
        "A k-mer is a sequence of length *k* characters in a string of nucloeitides in a DNA sequence.  You need to extract all k-mers from a sequence using a sliding window of 1.  This will create a sequence that overlaps in k-1 positions. The visual below shows this concept by extracting the 4-mers from the short nucleotide string.  \n",
        "\n",
        "![image.png](data:image/png;base64,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)\n",
        "\n"
      ]
    },
    {
      "cell_type": "markdown",
      "metadata": {
        "id": "VtmJZkOVsUPJ"
      },
      "source": [
        "Problem 1.1) Create a function to load the file and return the sequence and its header as a dictionary."
      ]
    },
    {
      "cell_type": "code",
      "metadata": {
        "id": "np4qBU_jLTht",
        "colab": {
          "base_uri": "https://localhost:8080/"
        },
        "outputId": "e3b1c993-a13e-4c4b-f24c-b3001d63cc1a"
      },
      "source": [
        "#Create function to load the file to a dictionary \"sequence\" with name and sequence \n",
        "\n",
        "def LoadFasta(filepath):\n",
        "    fh = open(filepath, \"r\")\n",
        "    data = fh.readlines()\n",
        "    fh.close()\n",
        "\n",
        "    sequences = {}\n",
        "    current_sequence_name = ''\n",
        "    current_sequence = ''\n",
        "    \n",
        "    for line in data:\n",
        "        line = line.strip() \n",
        "        \n",
        "        if line.startswith('>'):  \n",
        "            if current_sequence_name:\n",
        "                sequences[current_sequence_name] = current_sequence\n",
        "            \n",
        "            current_sequence_name = line[1:]\n",
        "            current_sequence = ''\n",
        "        else: \n",
        "            current_sequence += line\n",
        "    \n",
        "    if current_sequence_name:\n",
        "        sequences[current_sequence_name] = current_sequence\n",
        "    \n",
        "    return sequences\n",
        "\n",
        "sequences = LoadFasta(fileName)\n",
        "# Parse input file to generate two lists\n",
        "sequence = list(sequences.values())[0]\n",
        "#Print the sequence and its length\n",
        "print(\"Sequence length is \", len(sequence), sequence)"
      ],
      "execution_count": null,
      "outputs": [
        {
          "output_type": "stream",
          "name": "stdout",
          "text": [
            "Sequence length is  1608 ACATTTGCTTCTGACACAACTGTGTTCACTAGCAACCTCAAACAGACACCATGGTGCATCTGACTCCTGAGGAGAAGTCTGCCGTTACTGCCCTGTGGGGCAAGGTGAACGTGGATGAAGTTGGTGGTGAGGCCCTGGGCAGGTTGGTATCAAGGTTACAAGACAGGTTTAAGGAGACCAATAGAAACTGGGCATGTGGAGACAGAGAAGACTCTTGGGTTTCTGATAGGCACTGACTCTCTCTGCCTATTGGTCTATTTTCCCACCCTTAGGCTGCTGGTGGTCTACCCTTGGACCCAGAGGTTCTTTGAGTCCTTTGGGGATCTGTCCACTCCTGATGCTGTTATGGGCAACCCTAAGGTGAAGGCTCATGGCAAGAAAGTGCTCGGTGCCTTTAGTGATGGCCTGGCTCACCTGGACAACCTCAAGGGCACCTTTGCCACACTGAGTGAGCTGCACTGTGACAAGCTGCACGTGGATCCTGAGAACTTCAGGGTGAGTCTATGGGACGCTTGATGTTTTCTTTCCCCTTCTTTTCTATGGTTAAGTTCATGTCATAGGAAGGGGATAAGTAACAGGGTACAGTTTAGAATGGGAAACAGACGAATGATTGCATCAGTGTGGAAGTCTCAGGATCGTTTTAGTTTCTTTTATTTGCTGTTCATAACAATTGTTTTCTTTTGTTTAATTCTTGCTTTCTTTTTTTTTCTTCTCCGCAATTTTTACTATTATACTTAATGCCTTAACATTGTGTATAACAAAAGGAAATATCTCTGAGATACATTAAGTAACTTAAAAAAAAACTTTACACAGTCTGCCTAGTACATTACTATTTGGAATATATGTGTGCTTATTTGCATATTCATAATCTCCCTACTTTATTTTCTTTTATTTTTAATTGATACATAATCATTATACATATTTATGGGTTAAAGTGTAATGTTTTAATATGTGTACACATATTGACCAAATCAGGGTAATTTTGCATTTGTAATTTTAAAAAATGCTTTCTTCTTTTAATATACTTTTTTGTTTATCTTATTTCTAATACTTTCCCTAATCTCTTTCTTTCAGGGCAATAATGATACAATGTATCATGCCTCTTTGCACCATTCTAAAGAATAACAGTGATAATTTCTGGGTTAAGGCAATAGCAATATCTCTGCATATAAATATTTCTGCATATAAATTGTAACTGATGTAAGAGGTTTCATATTGCTAATAGCAGCTACAATCCAGCTACCATTCTGCTTTTATTTTATGGTTGGGATAAGGCTGGATTATTCTGAGTCCAAGCTAGGCCCTTTTGCTAATCATGTTCATACCTCTTATCTTCCTCCCACAGCTCCTGGGCAACGTGCTGGTCTGTGTGCTGGCCCATCACTTTGGCAAAGAATTCACCCCACCAGTGCAGGCTGCCTATCAGAAAGTGGTGGCTGGTGTGGCTAATGCCCTGGCCCACAAGTATCACTAAGCTCGCTTTCTTGCTGTCCAATTTCTATTAAAGGTTCCTTTGTTCCCTAAGTCCAACTACTAAACTGGGGGATATTATGAAGGGCCTTGAGCATCTGGATTCTGCCTAATAAAAAACATTTATTTTCATTGCAA\n"
          ]
        }
      ]
    },
    {
      "cell_type": "markdown",
      "metadata": {
        "id": "6FrAuraJs5Qo"
      },
      "source": [
        "Problem 1.2) Create a definition to find unique K-mers and return a cout of each K-mer.  To evaluate your work, I have given you code to print the total number of K-mers and the first five K-mers found.  "
      ]
    },
    {
      "cell_type": "code",
      "metadata": {
        "id": "MnUO_nZTseSy",
        "colab": {
          "base_uri": "https://localhost:8080/"
        },
        "outputId": "89c555cf-7220-4b50-fd50-52d2f1d14a2c"
      },
      "source": [
        "# Function to find  a list of k-mers based on the value of k and s - sequence provided\n",
        "def findKMers(k,sequence):\n",
        "    #open a list to store your K-mers\n",
        "    kmerList = []\n",
        "    if len(sequence) < k:\n",
        "      return kmerList\n",
        "    #use the range function to generate an integer to find the start for the sliding window\n",
        "    for i in range (len(sequence) - k + 1):\n",
        "        #obtain a substring from base i to base i+7\n",
        "        kmer = sequence[i:i+k]\n",
        "        #add the k-mer to the list\n",
        "        kmerList.append(kmer)\n",
        "    return kmerList\n",
        "\n",
        "kmerlist = findKMers(7,sequence)\n",
        "\n",
        "#Provided print statement\n",
        "print(\"Total # of 7-mers are\", len(kmerlist))\n",
        "for i in range(5):\n",
        "    print(\"7-mer #\" , i , \":\", kmerlist[i])"
      ],
      "execution_count": null,
      "outputs": [
        {
          "output_type": "stream",
          "name": "stdout",
          "text": [
            "Total # of 7-mers are 1602\n",
            "7-mer # 0 : ACATTTG\n",
            "7-mer # 1 : CATTTGC\n",
            "7-mer # 2 : ATTTGCT\n",
            "7-mer # 3 : TTTGCTT\n",
            "7-mer # 4 : TTGCTTC\n"
          ]
        }
      ]
    },
    {
      "cell_type": "markdown",
      "metadata": {
        "id": "RNOm5nBGRDYi"
      },
      "source": [
        "### Problem 2\n",
        "Print the first 5 reverse complementary and canonical k-mers along with the original kmers from Question 1 in a table similar to the example below.\n",
        "\n",
        "\n",
        "|Offset|0|1|2|3|4|\n",
        "|-----|-------|-------|-------|-------|-------|\n",
        "|7-mer|ATCGCTA|TCGCTAG|CGCTAGC|GCTAGCG|CTAGCGA|\n",
        "|Reverse Complement|TCGCATA|CGCATAC|GCATACG|CATACGT|CATCGTA|\n",
        "|Canonical|ATCGCTA|TCGCATA|CGCATAC|CATACGT|CATCGTA|\n",
        "\n",
        "DNA is *normally* double stranded with bases paired on opposite strands read from 5' to 3'. Thus, we want to consider each location of the genome, both forward and reverse strands. Thus, we want to calcaulte the reverse complement of the sequence and extract the first 5 7-mers. \n",
        "\n",
        "Counting the abundance of K-mers is important.  K-mers are often presented as the canonical sequence. This is presenting the lexicographically smaller of the two reverse complementary sequences (the one that comes earliest in alphabetical order). Most k-mer counting tool will use the canonical k-mers when presenting a K-mer count. \n",
        "\n"
      ]
    },
    {
      "cell_type": "markdown",
      "metadata": {
        "id": "q0vkHXajt43u"
      },
      "source": [
        "Problem 2.1) Create definition that returns the Reverse Compliment Sequence of the genome"
      ]
    },
    {
      "cell_type": "code",
      "metadata": {
        "colab": {
          "base_uri": "https://localhost:8080/"
        },
        "id": "o6gGqqYmRbhb",
        "outputId": "12ebf861-abe2-413f-c4da-66cf7ea56a6d"
      },
      "source": [
        "def createComplimantrySequence(s):\n",
        "    compSequence  = \"\"\n",
        "    # Create reverse complimentary sequence by substituting bases\n",
        "    for base in s:\n",
        "      #use conditional statements to obtain the complement\n",
        "      # Flip A -> T\n",
        "      if base == \"A\":\n",
        "        compSequence += \"T\"\n",
        "      # Flip T -> A\n",
        "      elif base == \"T\":\n",
        "        compSequence += \"A\"\n",
        "      # Flip C -> G\n",
        "      elif base == \"C\":\n",
        "        compSequence += \"G\"\n",
        "      # Flip G -> C\n",
        "      elif base == \"G\":\n",
        "        compSequence += \"C\"\n",
        "        \n",
        "      #[::-1] = how to reverse the string\n",
        "    compSequence = compSequence[::-1]\n",
        "\n",
        "    # Reverse the string\n",
        "    \n",
        "    return compSequence\n",
        "\n",
        "\n",
        "compSequence = createComplimantrySequence(sequence)\n",
        "#provided print statement\n",
        "print(compSequence[0:100])"
      ],
      "execution_count": null,
      "outputs": [
        {
          "output_type": "stream",
          "name": "stdout",
          "text": [
            "TTGCAATGAAAATAAATGTTTTTTATTAGGCAGAATCCAGATGCTCAAGGCCCTTCATAATATCCCCCAGTTTAGTAGTTGGACTTAGGGAACAAAGGAA\n"
          ]
        }
      ]
    },
    {
      "cell_type": "markdown",
      "metadata": {
        "id": "dHkxp7jmuqJd"
      },
      "source": [
        "Problem 2.2) Count the total number of 7-mers in the reverse complement genome and print the total number of K-mers and the first five K-mers. Use the definition created in problem 1.2."
      ]
    },
    {
      "cell_type": "code",
      "metadata": {
        "id": "xYXtYCCKuVWh",
        "colab": {
          "base_uri": "https://localhost:8080/"
        },
        "outputId": "2fd79978-ddfd-439a-a294-05d43e57f920"
      },
      "source": [
        "'''\n",
        "def createComplimentarySequence(s):\n",
        "    compSequence = \"\"\n",
        "    # Create reverse complimentary sequence by substituting bases\n",
        "    for base in s:\n",
        "        if base == \"A\":\n",
        "            compSequence += \"T\"\n",
        "        elif base == \"T\":\n",
        "            compSequence += \"A\"\n",
        "        elif base == \"C\":\n",
        "            compSequence += \"G\"\n",
        "        elif base == \"G\":\n",
        "            compSequence += \"C\"\n",
        "    # Reverse the string\n",
        "    compSequence = compSequence[::-1]\n",
        "\n",
        "    # Find all 7-mers in the complement sequence\n",
        "    k = 4\n",
        "    kmers = []\n",
        "    for i in range(len(compSequence)-k+1):\n",
        "        kmer = compSequence[i:i+k]\n",
        "        kmers.append(kmer)\n",
        "\n",
        "    return kmers\n",
        "\n",
        "\n",
        "# Call the function to create the complementary sequence\n",
        "seq = \"ATCGATCG\"\n",
        "compSeq = createComplimentarySequence(seq)\n",
        "'''\n",
        "# Find all 7-mers in the complement sequence\n",
        "compKmerlist = findKMers(7, compSequence)\n",
        "\n",
        "# Print the total number of 7-mers and the first 5 7-mers\n",
        "print(\"Total # of Complementary 7-mers are\", len(compKmerlist))\n",
        "for i in range(5):\n",
        "    print(\"7-mer #\", i, \":\", compKmerlist[i])"
      ],
      "execution_count": null,
      "outputs": [
        {
          "output_type": "stream",
          "name": "stdout",
          "text": [
            "Total # of Complementary 7-mers are 1602\n",
            "7-mer # 0 : TTGCAAT\n",
            "7-mer # 1 : TGCAATG\n",
            "7-mer # 2 : GCAATGA\n",
            "7-mer # 3 : CAATGAA\n",
            "7-mer # 4 : AATGAAA\n"
          ]
        }
      ]
    },
    {
      "cell_type": "markdown",
      "metadata": {
        "id": "sFiC69EIvHIQ"
      },
      "source": [
        "Problem 2.3) Create definition to find the *Canonical Sequence* for each K-mer pair (forward and reverse complement)."
      ]
    },
    {
      "cell_type": "code",
      "metadata": {
        "id": "F5eVgiCzuuqw",
        "colab": {
          "base_uri": "https://localhost:8080/"
        },
        "outputId": "c18a6b8f-a815-4a1e-883e-d43e17bf3539"
      },
      "source": [
        "# Expect that the sequences and reverseComplimentsSequences are of the same length and that you can rely on the order to be flipped, but correct\n",
        "def createCanonicalSequeces(sequences, reverseComplimentSequences):\n",
        "    #open list for cannoicalSequences, please add the cannonical sequence to the list in the following the order in list sequences\n",
        "    canonicalSequences = []\n",
        "    #get length of list sequences -1, will be used subsequently to compare 5'-3' and '3-5' lists\n",
        "    length = len(sequences) - 1\n",
        "    #provided code to validate that your lists are of the same length\n",
        "    if len(sequences) != len(reverseComplimentSequences):\n",
        "        return canonicalSequences\n",
        "    #use the range function to navigate the list with the 5'-3' K-mers\n",
        "    for i in range(len(sequences)):\n",
        "        #use conditional statements to compare 5'-3' K-mers and 3'-5' K-mers, recall they are in the reverse order, you can use the intiger stored as \"length\" to help you with the problem\n",
        "      if sequences[i] < reverseComplimentSequences[length-i]:\n",
        "            canonicalSequences.append(sequences[i])\n",
        "      else:\n",
        "            canonicalSequences.append(reverseComplimentSequences[length-i])\n",
        "            \n",
        "    return canonicalSequences\n",
        "\n",
        "\n",
        "canonicalSequencesList = createCanonicalSequeces(kmerlist, compKmerlist)\n",
        "#Print the 7-mer count\n",
        "print(\"Total # of canonical sequences are\", len(canonicalSequencesList))\n",
        "#Print first 5 Kmers\n",
        "for i in range(5):\n",
        "    print(\"7-mer #\" , i , \":\", canonicalSequencesList[i])"
      ],
      "execution_count": null,
      "outputs": [
        {
          "output_type": "stream",
          "name": "stdout",
          "text": [
            "Total # of canonical sequences are 1602\n",
            "7-mer # 0 : ACATTTG\n",
            "7-mer # 1 : CATTTGC\n",
            "7-mer # 2 : AGCAAAT\n",
            "7-mer # 3 : AAGCAAA\n",
            "7-mer # 4 : GAAGCAA\n"
          ]
        }
      ]
    },
    {
      "cell_type": "markdown",
      "metadata": {
        "id": "SBflHOysvMLS"
      },
      "source": [
        "Check your work by printing a table using the provided code."
      ]
    },
    {
      "cell_type": "code",
      "source": [],
      "metadata": {
        "id": "9MOmpU2dShCX"
      },
      "execution_count": null,
      "outputs": []
    },
    {
      "cell_type": "code",
      "metadata": {
        "id": "ZL8hRRV9vRYv",
        "colab": {
          "base_uri": "https://localhost:8080/"
        },
        "outputId": "ad2de8ae-9a98-435a-e5e8-4f479456be65"
      },
      "source": [
        "#Print the requested table uisng format\n",
        "def nicePrint(kmerlist, compKmerlist, canonicalSequencesList):\n",
        "    print(\"{: ^20} {: ^10} {: ^10} {: ^10} {: ^10} {: ^10} \".format(\"Offset\", 0, 1,2, 3, 4))\n",
        "    print(\"-\"*75)\n",
        "    print(\"{: <20} {: ^10} {: ^10} {: ^10} {: ^10} {: ^10} \".format(\"7-mer\", kmerlist[0], kmerlist[1], kmerlist[2], kmerlist[3], kmerlist[4]))\n",
        "    print(\"{: <20} {: ^10} {: ^10} {: ^10} {: ^10} {: ^10} \".format(\"Reverse Complement\", compKmerlist[1601], compKmerlist[1600], compKmerlist[1599], compKmerlist[1598], compKmerlist[1597]))\n",
        "    print(\"{: <20} {: ^10} {: ^10} {: ^10} {: ^10} {: ^10} \".format(\"Canonical\", canonicalSequencesList[0], canonicalSequencesList[1], canonicalSequencesList[2], canonicalSequencesList[3], canonicalSequencesList[4]))\n",
        "\n",
        "nicePrint(kmerlist, compKmerlist, canonicalSequencesList)"
      ],
      "execution_count": null,
      "outputs": [
        {
          "output_type": "stream",
          "name": "stdout",
          "text": [
            "       Offset            0          1          2          3          4      \n",
            "---------------------------------------------------------------------------\n",
            "7-mer                 ACATTTG    CATTTGC    ATTTGCT    TTTGCTT    TTGCTTC   \n",
            "Reverse Complement    CAAATGT    GCAAATG    AGCAAAT    AAGCAAA    GAAGCAA   \n",
            "Canonical             ACATTTG    CATTTGC    AGCAAAT    AAGCAAA    GAAGCAA   \n"
          ]
        }
      ]
    },
    {
      "cell_type": "markdown",
      "metadata": {
        "id": "ODLfafzBgaxr"
      },
      "source": [
        "### Problem 3\n",
        "#### Distinct, unique, and total k-mers.  It is important to understand how often a k-mer appears in a genome.  In this problem, you are asked to find and evaluate 3-mers given a short DNA string.\n",
        "\n",
        "For the following sequence:`AATCGGGGTATC`, calculate the total, distinct, and unique count of the canonical 3-mers. \n",
        "\n",
        "*Total k-mers* are the sum of k-mers that can be obtained from the sequence given the length of K and the length of the sequence.\n",
        "\n",
        "*Distinct k-mers* are counted only once, even if they appear multiple times.\n",
        "\n",
        "*Unique k-mers* are those that appear only once. Unique k-mers are very important for analysis. "
      ]
    },
    {
      "cell_type": "markdown",
      "metadata": {
        "id": "FLkXxtW-v-FS"
      },
      "source": [
        "Problem 3.1) Find 3-mers and their compliments"
      ]
    },
    {
      "cell_type": "code",
      "metadata": {
        "id": "faPqFX4uvoBW",
        "colab": {
          "base_uri": "https://localhost:8080/"
        },
        "outputId": "3984d0eb-e327-4d68-bb3d-daef2f732220"
      },
      "source": [
        "#create a list of distinct 3-mers in this sequence\n",
        "sequence = \"AATCGGGGTATC\"\n",
        "#Use the definition your created for problem 1.2 to find 3 mers in \"sequence\"\n",
        "Threemerlist = findKMers(3, sequence)\n",
        "#print the total number of 3-mers and the 3-mers themselves identified in the sequence\n",
        "print(\"Total # of 3-mers are\", len(Threemerlist), Threemerlist)\n",
        "\n",
        "#Ues the definition your created for problem 2.1 to find the reverse-compliment of the sequence\n",
        "comp3Sequence = createComplimantrySequence(sequence)\n",
        "#Ues the definition your created for problem 1.2 to find 3 mers in \"compSequence\"\n",
        "comp3merlist = findKMers(3, comp3Sequence)\n",
        "#print the total number of 3-mers and the 3-mers themselves identified in the reverse-complement\n",
        "print(\"Total Reverse Compliment 3-mers found are\", len(comp3merlist), comp3merlist)"
      ],
      "execution_count": null,
      "outputs": [
        {
          "output_type": "stream",
          "name": "stdout",
          "text": [
            "Total # of 3-mers are 10 ['AAT', 'ATC', 'TCG', 'CGG', 'GGG', 'GGG', 'GGT', 'GTA', 'TAT', 'ATC']\n",
            "Total Reverse Compliment 3-mers found are 10 ['GAT', 'ATA', 'TAC', 'ACC', 'CCC', 'CCC', 'CCG', 'CGA', 'GAT', 'ATT']\n"
          ]
        }
      ]
    },
    {
      "cell_type": "markdown",
      "metadata": {
        "id": "aylQ6oRAwT-N"
      },
      "source": [
        "Problem 3.2) Find canonical, distinct, and unique K-mers given the list of 3-mers created in the part a"
      ]
    },
    {
      "cell_type": "code",
      "metadata": {
        "colab": {
          "base_uri": "https://localhost:8080/"
        },
        "id": "aR-PARNigby0",
        "outputId": "bea7fa8b-f980-4bd4-bd3d-80670287eb4a"
      },
      "source": [
        "# Create a definition that will produce a list of distinct K-mers, given a list of K-mers\n",
        "def createDistinctList(l):\n",
        "    if len(l) == 0:\n",
        "        return l\n",
        "    #open your list\n",
        "    distinctlist = []\n",
        "    #use the range and len functions to move through the list\n",
        "    for i in range(len(l)):\n",
        "      n = l[i]\n",
        "        #create a conditional statement and use \"not in\" to determine if the K-mer is in the new list, if not add it\n",
        "      if n not in distinctlist:\n",
        "        distinctlist.append(n)\n",
        "\n",
        "    return distinctlist\n",
        "\n",
        "# Create a defintion to find a unique list, given a list of K-mers\n",
        "def createUniqueList(l):\n",
        "    if len(l) == 0:\n",
        "        return l\n",
        "    #open your list\n",
        "    uniquelist = []\n",
        "    #an easy way to accomplish this task, is to create a dictionary with the k-mer as the key and its count as the value\n",
        "    d = {}\n",
        "    #use the range and len functions to move through the lsit\n",
        "    for i in range(len(l)):\n",
        "      n = l[i]\n",
        "        \n",
        "        #count elements and keep count in the value\n",
        "      if n not in d.keys():\n",
        "        d[n] = 1\n",
        "      else:\n",
        "        d[n] += 1\n",
        "\n",
        "\n",
        "    #check for elements with a count of 1 and add them to your list\n",
        "    for key, value in d.items():\n",
        "      if value == 1:\n",
        "        uniquelist.append(key)\n",
        "\n",
        "   \n",
        "    return uniquelist\n",
        "\n",
        "# Find canonical sequences from the 3-mers\n",
        "cantonical3merList = createCanonicalSequeces(Threemerlist, comp3merlist)\n",
        "print(\"Canonical 3-mers  are\", len(cantonical3merList), cantonical3merList)\n",
        "\n",
        "distinctList = createDistinctList(cantonical3merList)\n",
        "print(\"Total distinct Kmers found are \", len(distinctList), distinctList)\n",
        "\n",
        "uniqueList =  createUniqueList(cantonical3merList)\n",
        "print(\"Total Unique Kmers found are \", len(uniqueList), uniqueList)"
      ],
      "execution_count": null,
      "outputs": [
        {
          "output_type": "stream",
          "name": "stdout",
          "text": [
            "Canonical 3-mers  are 10 ['AAT', 'ATC', 'CGA', 'CCG', 'CCC', 'CCC', 'ACC', 'GTA', 'ATA', 'ATC']\n",
            "Total distinct Kmers found are  8 ['AAT', 'ATC', 'CGA', 'CCG', 'CCC', 'ACC', 'GTA', 'ATA']\n",
            "Total Unique Kmers found are  6 ['AAT', 'CGA', 'CCG', 'ACC', 'GTA', 'ATA']\n"
          ]
        }
      ]
    },
    {
      "cell_type": "markdown",
      "metadata": {
        "id": "wh0WbFnMqadD"
      },
      "source": [
        "### Problem 4\n",
        "#### For the sequence provided in Question 1, create a definition to find the smallest k-mer size where every k-mer is unique for the sequence (i.e. number of unique,distinct and total k-mers are the equal number).  Start with K=2 and keep adding 1 until the objective is reached.\n",
        "\n",
        "\n"
      ]
    },
    {
      "cell_type": "code",
      "metadata": {
        "id": "WZspvd_KypM9",
        "colab": {
          "base_uri": "https://localhost:8080/"
        },
        "outputId": "9f4cdce7-e3a4-4882-8f01-dbc3c7d58760"
      },
      "source": [
        "#Finds the total, unique and distinct K-mer counts\n",
        "def findKmerTypes(k, sequence):\n",
        "    totalKmerlist = findKMers(k, sequence)\n",
        "    uniqueList = list(set(totalKmerlist))\n",
        "    distinctList = []\n",
        "    for kmer in uniqueList:\n",
        "        if totalKmerlist.count(kmer) == 1:\n",
        "            distinctList.append(kmer)\n",
        "    return (len(totalKmerlist), len(uniqueList), len(distinctList))\n",
        "\n",
        "# Use the fasta loader to obtain the original HBB sequence from question 1\n",
        "sequences = LoadFasta(fileName)\n",
        "sequence = list(sequences.values())[0]\n",
        "\n",
        "# Find the smallest k-mer size where every k-mer is unique\n",
        "k = 2\n",
        "while True:\n",
        "    kmer_counts = findKmerTypes(k, sequence)\n",
        "    if kmer_counts[0] == kmer_counts[1] == kmer_counts[2]:\n",
        "        break\n",
        "    k += 1\n",
        "\n",
        "print(\"Smallest k-mer size where every k-mer is unique:\", k)\n"
      ],
      "execution_count": null,
      "outputs": [
        {
          "output_type": "stream",
          "name": "stdout",
          "text": [
            "Smallest k-mer size where every k-mer is unique: 14\n"
          ]
        }
      ]
    }
  ]
}