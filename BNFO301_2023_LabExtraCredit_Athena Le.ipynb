{
  "nbformat": 4,
  "nbformat_minor": 0,
  "metadata": {
    "kernelspec": {
      "display_name": "Python 3",
      "language": "python",
      "name": "python3"
    },
    "language_info": {
      "codemirror_mode": {
        "name": "ipython",
        "version": 3
      },
      "file_extension": ".py",
      "mimetype": "text/x-python",
      "name": "python",
      "nbconvert_exporter": "python",
      "pygments_lexer": "ipython3",
      "version": "3.7.4"
    },
    "colab": {
      "provenance": [],
      "include_colab_link": true
    }
  },
  "cells": [
    {
      "cell_type": "markdown",
      "metadata": {
        "id": "view-in-github",
        "colab_type": "text"
      },
      "source": [
        "<a href=\"https://colab.research.google.com/github/athenakle/Bnfo301_Le_Athena/blob/main/BNFO301_2023_LabExtraCredit_Athena%20Le.ipynb\" target=\"_parent\"><img src=\"https://colab.research.google.com/assets/colab-badge.svg\" alt=\"Open In Colab\"/></a>"
      ]
    },
    {
      "cell_type": "markdown",
      "metadata": {
        "id": "CV8ltn7IuWLR"
      },
      "source": [
        "<h1>BNFO301 ExtraCredit Homework Assignment </h1>\n",
        "\n",
        "In this assignment, has 4 problems, worth 5 points each (20 points total).  The lecture slides discribe the basics of fastq format, sequencing technology, and read assembly.\n",
        "\n",
        "\n",
        "\n"
      ]
    },
    {
      "cell_type": "markdown",
      "metadata": {
        "id": "CM7DEBptKwuv"
      },
      "source": [
        "### Setup\n",
        "Read the Sequence Data File.  Leave this as is and run."
      ]
    },
    {
      "cell_type": "code",
      "metadata": {
        "id": "2zD28BXq0bRi",
        "colab": {
          "base_uri": "https://localhost:8080/"
        },
        "outputId": "1df854dc-fb6d-42ba-9326-3641213411ee"
      },
      "source": [
        "import os.path\n",
        "# Load the genbank file \n",
        "DATA_FILE_GITHUB = \"https://raw.githubusercontent.com/boydvcu/BNFO301_2023/main/SampleFqfile_301.fq\"\n",
        "DEFAULT_FILE_NAME = 'SampleFqfile_301.fq'\n",
        "fileName = DEFAULT_FILE_NAME\n",
        "#Does the file exists locally, if not get it from the github\n",
        "if not os.path.exists(fileName):\n",
        "  #Load the file from Github to the local folder\n",
        "  !wget --no-check-certificate --content-disposition $DATA_FILE_GITHUB\n",
        "   \n",
        "print(\"Reading file:\", fileName)\n"
      ],
      "execution_count": 29,
      "outputs": [
        {
          "output_type": "stream",
          "name": "stdout",
          "text": [
            "Reading file: SampleFqfile_301.fq\n"
          ]
        }
      ]
    },
    {
      "cell_type": "markdown",
      "metadata": {
        "id": "WIDxNNSDz1pE"
      },
      "source": [
        "###Problem 1\n",
        "\n",
        "Read in the data, return header, squences, and scores<br>\n",
        "\n"
      ]
    },
    {
      "cell_type": "markdown",
      "metadata": {
        "id": "VtmJZkOVsUPJ"
      },
      "source": [
        "Problem 1.a) Fastq files contain associated sets of data on multiple lines.  In this problem, you need to create a class to represent a sequence, it's header, and it's score."
      ]
    },
    {
      "cell_type": "code",
      "metadata": {
        "id": "np4qBU_jLTht"
      },
      "source": [
        "class Sequences:\n",
        "    def __init__(self, header, seq, score=None):\n",
        "        self.header = header\n",
        "        self.seq = seq\n",
        "        self.score = score\n",
        "\n",
        "    def __str__(self):\n",
        "        s = f\"{self.header}\\n{self.seq}\\n\"\n",
        "        if self.score:\n",
        "            s += f\"{self.score}\\n\"\n",
        "        return s\n"
      ],
      "execution_count": 30,
      "outputs": []
    },
    {
      "cell_type": "markdown",
      "metadata": {
        "id": "6FrAuraJs5Qo"
      },
      "source": [
        "Problem 1.b) Create a definition to read the FASTQ file and return a list containing the header, DNA_sequence, and Phred_scores.  Recall that ASCII encoded scores include \"@\" and \"+\".  Unlike reading in fasta formated files, we simply state that the line begins with \">\".  I find it is useful to create a flag.  This allows me to be informed about line order.\n",
        "\n",
        "Here is an example, the Last List Object:\n",
        "\n",
        "\"Header:@A00835:187:HKWNMDSXY:1:1101:29008:1000 1:N:0:CCGCGGTT+CTAGCGCT\n",
        "\n",
        "Sequence:CGGAAAGTTGGGTAGGGGGAGGGAGGGAGTGACATGGTTTTTTAAAAGCAAATTTTCCTTTTTGGGTTGAGCAAACCTCGTTACGTTGTGTGTGTTTTGTTTCTTTGTGTGGCGGGTGTCAGGCTTGCTTAATTTTGAACCGCTCAGTAT\n",
        "\n",
        "Score:FFFFFFFFFFFFFFFFFFFFFFFFFFFFFFFFFFFFFFFFFFFFFFFFFFFFFFFFFF:FFFFFFFFFFFFFFFFFFFFFFFFFF:FFFFFFFFFFFFFFFFFFFFFFFFFFFFFFFFFFFFFFFFFFFFFFFFFFFFFF:FFFFFFFFF\""
      ]
    },
    {
      "cell_type": "code",
      "metadata": {
        "id": "MnUO_nZTseSy"
      },
      "source": [
        "def LoadFastq(myfile):\n",
        "    HEADERStartChar = \"@\"\n",
        "    ScoreSeparator = \"+\"\n",
        "    fh = open(myfile, \"r\")\n",
        "    data = fh.readlines()\n",
        "    fh.close()\n",
        "    sequenceList = []\n",
        "    header = \"\"\n",
        "    sequence = \"\"\n",
        "    score = \"\"\n",
        "    flag = 0\n",
        "    for line in data:\n",
        "        if line[0] == HEADERStartChar:\n",
        "            if flag == 0:\n",
        "                header = line.strip()\n",
        "                flag = 1\n",
        "            else:\n",
        "                sequenceList.append(Sequences(header, sequence, score))\n",
        "                header = line.strip()\n",
        "                sequence = \"\"\n",
        "                score = \"\"\n",
        "        elif line[0] == ScoreSeparator:\n",
        "            flag = 2\n",
        "        else:\n",
        "            if flag == 1:\n",
        "                sequence += line.strip()\n",
        "            elif flag == 2:\n",
        "                score += line.strip()\n",
        "    sequenceList.append(Sequences(header, sequence, score))\n",
        "    return sequenceList\n"
      ],
      "execution_count": 31,
      "outputs": []
    },
    {
      "cell_type": "markdown",
      "metadata": {
        "id": "RNOm5nBGRDYi"
      },
      "source": [
        "### Problem 2\n",
        "Create a definition to return the \"Quality Score.\"  The data provided to you in the fastq file, repersents short sequence reads generated using Illumina HiSeq technology.  Illumina encodes the Quality score for each base using the ASCII character + 33.  You can use the ord function (for example \"ord(A)\" should return 65) to find the value associated with a character and substract 33 to get the Phred score (therefore, A = 32). <br>\n",
        "\n",
        "Here is a list of characters and their score: https://support.illumina.com/help/BaseSpace_OLH_009008/Content/Source/Informatics/BS/QualityScoreEncoding_swBS.htm"
      ]
    },
    {
      "cell_type": "code",
      "metadata": {
        "id": "o6gGqqYmRbhb"
      },
      "source": [
        "def findQScore(c):\n",
        "    # Calculate the ASCII code for the input character\n",
        "    ascii_code = ord(c)\n",
        "    # Subtract the ASCII code for the letter '!' to get the Phred+33 quality score\n",
        "    q_score = ascii_code - 33\n",
        "    # Return the quality score as an integer\n",
        "    return q_score\n"
      ],
      "execution_count": null,
      "outputs": []
    },
    {
      "cell_type": "markdown",
      "metadata": {
        "id": "ODLfafzBgaxr"
      },
      "source": [
        "###  Problem 3\n",
        "\n",
        "Soft-trimming:  Create a defintion that will remove bases from the 3' end of reads based on their associated Quality score.  Starting with the 3' base, remove any base with a score below 28.  Use a sliding window of 1 base and stop trimming when you reach a base with a score > 28.  You only need to trim the sequence line itself.  You do not need to trim the \"Quality line\"."
      ]
    },
    {
      "cell_type": "code",
      "metadata": {
        "id": "faPqFX4uvoBW"
      },
      "source": [
        "def softTrim(seqObject, compareScore=28):\n",
        "    # Get the sequence from the input sequence object\n",
        "    seq = seqObject.seq\n",
        "    # Initialize the trim point to None\n",
        "    trim_point = None\n",
        "    # Loop over the sequence in reverse, starting from the second-to-last base\n",
        "    for i in range(len(seq)-2, -1, -1):\n",
        "        # Get the quality score for the current base and the next base\n",
        "        q_score_current = findQScore(seq[i])\n",
        "        q_score_next = findQScore(seq[i+1])\n",
        "        # Check if the quality score of the current base is less than the specified threshold\n",
        "        if q_score_current < compareScore:\n",
        "            # If it is, set the trim point to the current index and break out of the loop\n",
        "            trim_point = i\n",
        "            break\n",
        "        # Check if the quality score of the next base is greater than the specified threshold\n",
        "        if q_score_next > compareScore:\n",
        "            # If it is, set the trim point to the current index and break out of the loop\n",
        "            trim_point = i+1\n",
        "            break\n",
        "    # Check if a trim point was found\n",
        "    if trim_point is None:\n",
        "        # If not, return the original sequence\n",
        "        return seq\n",
        "    else:\n",
        "        # If a trim point was found, truncate the sequence at the trim point and return the truncated sequence\n",
        "        truncated_seq = seq[:trim_point]\n",
        "        return truncated_seq\n"
      ],
      "execution_count": 36,
      "outputs": []
    },
    {
      "cell_type": "markdown",
      "metadata": {
        "id": "wh0WbFnMqadD"
      },
      "source": [
        "### Problem 4\n",
        "#### Bring it all together and use the defition created in probelm 3 to soft trim all the sequence in \"seqList\"  Print the each list element followed by the trimmed sequence.  You do not need to trim the \"Quality line\" itself.\n"
      ]
    },
    {
      "cell_type": "code",
      "source": [],
      "metadata": {
        "id": "ZlGENXuk39-E"
      },
      "execution_count": 31,
      "outputs": []
    },
    {
      "cell_type": "code",
      "metadata": {
        "id": "WZspvd_KypM9",
        "colab": {
          "base_uri": "https://localhost:8080/",
          "height": 235
        },
        "outputId": "fc8ec4ad-0069-463a-a084-076a83cde031"
      },
      "source": [
        "i = 1\n",
        "for seq in seqList:\n",
        "    # Print the original sequence\n",
        "    print(f\"\\nSequence {i}:\")\n",
        "    print(seq)\n",
        "    \n",
        "    # Do the soft trimming using the definition from problem 3\n",
        "    trimmed_seq = soft_trim(seq.seq, seq.letter_annotations[\"phred_quality\"])\n",
        "    \n",
        "    # Print the trimmed sequence\n",
        "    print(f\"Trimmed Sequence {i}:\")\n",
        "    print(trimmed_seq)\n",
        "    \n",
        "    i += 1\n"
      ],
      "execution_count": 34,
      "outputs": [
        {
          "output_type": "error",
          "ename": "NameError",
          "evalue": "ignored",
          "traceback": [
            "\u001b[0;31m---------------------------------------------------------------------------\u001b[0m",
            "\u001b[0;31mNameError\u001b[0m                                 Traceback (most recent call last)",
            "\u001b[0;32m<ipython-input-34-a85b6f777841>\u001b[0m in \u001b[0;36m<cell line: 2>\u001b[0;34m()\u001b[0m\n\u001b[1;32m      1\u001b[0m \u001b[0mi\u001b[0m \u001b[0;34m=\u001b[0m \u001b[0;36m1\u001b[0m\u001b[0;34m\u001b[0m\u001b[0;34m\u001b[0m\u001b[0m\n\u001b[0;32m----> 2\u001b[0;31m \u001b[0;32mfor\u001b[0m \u001b[0mseq\u001b[0m \u001b[0;32min\u001b[0m \u001b[0mseqTrim\u001b[0m\u001b[0;34m:\u001b[0m\u001b[0;34m\u001b[0m\u001b[0;34m\u001b[0m\u001b[0m\n\u001b[0m\u001b[1;32m      3\u001b[0m     \u001b[0;31m# Print the original sequence\u001b[0m\u001b[0;34m\u001b[0m\u001b[0;34m\u001b[0m\u001b[0m\n\u001b[1;32m      4\u001b[0m     \u001b[0mprint\u001b[0m\u001b[0;34m(\u001b[0m\u001b[0;34mf\"\\nSequence {i}:\"\u001b[0m\u001b[0;34m)\u001b[0m\u001b[0;34m\u001b[0m\u001b[0;34m\u001b[0m\u001b[0m\n\u001b[1;32m      5\u001b[0m     \u001b[0mprint\u001b[0m\u001b[0;34m(\u001b[0m\u001b[0mseq\u001b[0m\u001b[0;34m.\u001b[0m\u001b[0mseq\u001b[0m\u001b[0;34m)\u001b[0m\u001b[0;34m\u001b[0m\u001b[0;34m\u001b[0m\u001b[0m\n",
            "\u001b[0;31mNameError\u001b[0m: name 'seqTrim' is not defined"
          ]
        }
      ]
    }
  ]
}